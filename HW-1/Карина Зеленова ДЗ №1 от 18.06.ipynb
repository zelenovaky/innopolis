{
  "nbformat": 4,
  "nbformat_minor": 0,
  "metadata": {
    "colab": {
      "provenance": []
    },
    "kernelspec": {
      "name": "python3",
      "display_name": "Python 3"
    },
    "language_info": {
      "name": "python"
    }
  },
  "cells": [
    {
      "cell_type": "code",
      "execution_count": null,
      "metadata": {
        "id": "7cBSHXEJifXc"
      },
      "outputs": [],
      "source": [
        "import numpy as np"
      ]
    },
    {
      "cell_type": "markdown",
      "source": [
        "***Задание 1. ***Решитьзадачиповысшейматематике\n",
        "Решитьматрицы\n",
        "\n",
        " A*B"
      ],
      "metadata": {
        "id": "sLPLJabiigQL"
      }
    },
    {
      "cell_type": "markdown",
      "source": [
        "$$\n",
        "A = \\begin{pmatrix}\n",
        "6 & -8 & 3\n",
        "\\end{pmatrix}\n",
        "$$\n",
        "$$\n",
        "B = \\begin{pmatrix}\n",
        "1\\\\\n",
        "1\\\\\n",
        "4\n",
        "\\end{pmatrix}\n",
        "$$"
      ],
      "metadata": {
        "id": "PNmIVW_aySYb"
      }
    },
    {
      "cell_type": "markdown",
      "source": [
        "Этот код вычисляет скалярное произведение двух векторов A и B. Сначала он преобразует список B в одномерный список S, затем вычисляет произведение соответствующих элементов списков A и S и сохраняет результаты в новом списке C. Затем он вычисляет сумму элементов списка C, которая является скалярным произведением векторов A и B."
      ],
      "metadata": {
        "id": "A70VpmA-sn-B"
      }
    },
    {
      "cell_type": "code",
      "source": [
        "A_1=[6,-8,3]\n",
        "B_1=[[1],[1],[4]]\n",
        "C=[]\n",
        "S=[]"
      ],
      "metadata": {
        "id": "LsZrU1pVsiBZ"
      },
      "execution_count": null,
      "outputs": []
    },
    {
      "cell_type": "code",
      "source": [
        "for i in range(len(B_1)):\n",
        "    for j in range(len(B_1[i])):\n",
        "        S.append(B_1[i][j])\n",
        "for i in  range(len(S)):\n",
        "    C.append(A_1[i]*S[i])\n",
        "C=sum(C)\n",
        "C"
      ],
      "metadata": {
        "colab": {
          "base_uri": "https://localhost:8080/"
        },
        "id": "0vNo6VlLrUgw",
        "outputId": "1265eca0-0173-4718-c890-f63ca25e4d0e"
      },
      "execution_count": null,
      "outputs": [
        {
          "output_type": "execute_result",
          "data": {
            "text/plain": [
              "10"
            ]
          },
          "metadata": {},
          "execution_count": 25
        }
      ]
    },
    {
      "cell_type": "markdown",
      "source": [
        "Проверяю"
      ],
      "metadata": {
        "id": "_HJw_4-btztu"
      }
    },
    {
      "cell_type": "code",
      "source": [
        "A=np.matrix([[6,-8,3]])\n",
        "B=np.matrix([[1],[1],[4]])\n",
        "C=[]\n",
        "C=A*B\n",
        "print(C)"
      ],
      "metadata": {
        "colab": {
          "base_uri": "https://localhost:8080/"
        },
        "id": "pqzYu2UxtyMO",
        "outputId": "e2e973af-9a1e-4690-a090-8c3867f88083"
      },
      "execution_count": null,
      "outputs": [
        {
          "output_type": "stream",
          "name": "stdout",
          "text": [
            "[[10]]\n"
          ]
        }
      ]
    },
    {
      "cell_type": "markdown",
      "source": [
        "$$\n",
        "A*B = \\begin{pmatrix}\n",
        "10\n",
        "\\end{pmatrix}\n",
        "$$\n"
      ],
      "metadata": {
        "id": "ic_ITeOEzSZI"
      }
    },
    {
      "cell_type": "markdown",
      "source": [
        "**Второй пример**\n",
        "A*B\n",
        "$$\n",
        "A = \\begin{pmatrix}\n",
        "3 & -7\\\\\n",
        "-10 & 6\\\\\n",
        "0 & 6\\\\\n",
        "-1 & -3\n",
        "\\end{pmatrix}\n",
        "$$\n",
        "\n",
        "\n",
        "\n",
        "$$\n",
        "B = \\begin{pmatrix}\n",
        "-8 & 9\\\\\n",
        "4 & -2\n",
        "\\end{pmatrix}\n",
        "$$\n"
      ],
      "metadata": {
        "id": "u4aORRyoumEI"
      }
    },
    {
      "cell_type": "code",
      "source": [
        "A_2=[[-3,-7],[-10,6],[0, -6],[-1,-3]]\n",
        "B_2=[[-8,9],[4,-2]]\n"
      ],
      "metadata": {
        "id": "BGqXDqv5uuxl"
      },
      "execution_count": null,
      "outputs": []
    },
    {
      "cell_type": "markdown",
      "source": [
        "Было разрвботано несколько вариантов решения:\n",
        "\n",
        "Самый быстрый и оптимизированный вариант(без использования стороних библиотек)\n",
        "\n"
      ],
      "metadata": {
        "id": "WnBW9g5pu1Qw"
      }
    },
    {
      "cell_type": "markdown",
      "source": [
        "Этот код выполняет умножение матриц A и B. Он использует списковое включение (list comprehension), чтобы вычислить скалярное произведение каждой строки матрицы A на каждый столбец матрицы B. Результат сохраняется в новой матрице result, которая затем выводится на экран.\n"
      ],
      "metadata": {
        "id": "9Vmzjehlz8pH"
      }
    },
    {
      "cell_type": "code",
      "source": [
        "result = [[sum(a * b for a, b in zip(row_a, col_b)) for col_b in zip(*B_2)] for row_a in A_2]\n",
        "\n",
        "for i in result:\n",
        "  print(i)"
      ],
      "metadata": {
        "colab": {
          "base_uri": "https://localhost:8080/"
        },
        "id": "vr5SCnXSwVmt",
        "outputId": "98c38055-8a93-49e2-c9b8-1ff872f22f90"
      },
      "execution_count": null,
      "outputs": [
        {
          "output_type": "stream",
          "name": "stdout",
          "text": [
            "[-4, -13]\n",
            "[104, -102]\n",
            "[-24, 12]\n",
            "[-4, -3]\n"
          ]
        }
      ]
    },
    {
      "cell_type": "markdown",
      "source": [
        "$$\n",
        "A*B = \\begin{pmatrix}\n",
        "-4 & -13\\\\\n",
        "104 & -102\\\\\n",
        "-24 & 12\\\\\n",
        "-4 & -3\n",
        "\\end{pmatrix}\n",
        "$$\n",
        "\n",
        "\n",
        "Проверяю\n",
        "\n",
        "\n"
      ],
      "metadata": {
        "id": "557PpfI3wmow"
      }
    },
    {
      "cell_type": "code",
      "source": [
        "A_2_NP=np.matrix([[-3,-7],[-10,6],[0, -6],[-1,-3]])\n",
        "B_2_NP=np.matrix([[-8,9],[4,-2]])\n",
        "C=[]\n",
        "C=A_2_NP*B_2_NP\n",
        "print(C)"
      ],
      "metadata": {
        "colab": {
          "base_uri": "https://localhost:8080/"
        },
        "id": "pAwcYCg3wpjE",
        "outputId": "8c7c7ecc-168c-4c5c-95b8-0beb0111c82f"
      },
      "execution_count": null,
      "outputs": [
        {
          "output_type": "stream",
          "name": "stdout",
          "text": [
            "[[  -4  -13]\n",
            " [ 104 -102]\n",
            " [ -24   12]\n",
            " [  -4   -3]]\n"
          ]
        }
      ]
    },
    {
      "cell_type": "markdown",
      "source": [
        "Первая моя идея в решении матрицы состояла в том, что бы работать с матрицами как со списком списков не используя внешних библиотек, но данный код оказался медленным"
      ],
      "metadata": {
        "id": "40Qf-cqiwa5G"
      }
    },
    {
      "cell_type": "code",
      "source": [
        "A=[[-3,-7],[-10,6],[0, -6],[-1,-3]]\n",
        "B=[[-8,9],[4,-2]]\n"
      ],
      "metadata": {
        "id": "FhjAWsBL0wv_"
      },
      "execution_count": null,
      "outputs": []
    },
    {
      "cell_type": "code",
      "source": [
        "CA = [[0 for j in range(len(A))] for i in range(len(A))]\n",
        "CB = [[0 for j in range(len(A))] for i in range(len(A))]\n",
        "C = [[0 for j in range(len(A))] for i in range(len(A))]\n",
        "list_matrix=[[0 for j in range(len(B[0]))] for i in range(len(A))]\n",
        "for i in range(len(A)):\n",
        "    for j in range(len(A[0])):\n",
        "        CA[i][j]=A[i][j]\n",
        "for i in range(len(B)):\n",
        "    for j in range(len(B[0])):\n",
        "        CB[i][j] = B[i][j]\n",
        "\n",
        "\n",
        "for i in range(len(CA)):\n",
        "    for j in range(len(CB[0])):\n",
        "        for k in range(len(CB)):\n",
        "            C[i][j] += CA[i][k] * CB[k][j]\n",
        "\n",
        "for i in range(len(C)):\n",
        "    for j in range(len(C[0])):\n",
        "        if (j in [g for g in range(len(B[0]))]):\n",
        "            list_matrix[i][j]=C[i][j]\n",
        "\n",
        "print(list_matrix)\n",
        "\n"
      ],
      "metadata": {
        "colab": {
          "base_uri": "https://localhost:8080/"
        },
        "id": "3k7vdMoj03EE",
        "outputId": "3fec9eee-10b1-4ead-adc7-abf84a6ff63d"
      },
      "execution_count": null,
      "outputs": [
        {
          "output_type": "stream",
          "name": "stdout",
          "text": [
            "[[-4, -13], [104, -102], [-24, 12], [-4, -3]]\n"
          ]
        }
      ]
    }
  ]
}