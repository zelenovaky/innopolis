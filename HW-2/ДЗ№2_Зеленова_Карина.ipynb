{
  "nbformat": 4,
  "nbformat_minor": 0,
  "metadata": {
    "colab": {
      "provenance": []
    },
    "kernelspec": {
      "name": "python3",
      "display_name": "Python 3"
    },
    "language_info": {
      "name": "python"
    }
  },
  "cells": [
    {
      "cell_type": "code",
      "source": [
        "import pandas as pd\n",
        "import os\n",
        "from IPython.display import display\n",
        "import numpy as np\n",
        "import matplotlib as mpl\n",
        "import matplotlib.pyplot as plt\n",
        "import io\n",
        "from scipy import stats"
      ],
      "metadata": {
        "id": "rnxKwmWhM7tQ"
      },
      "execution_count": 1,
      "outputs": []
    },
    {
      "cell_type": "code",
      "execution_count": 2,
      "metadata": {
        "id": "chdJ8qx4COcb"
      },
      "outputs": [],
      "source": [
        "# from google.colab import files\n",
        "\n",
        "\n",
        "# uploaded = files.upload()\n",
        "\n",
        "\n",
        "# df = pd.read_csv(io.BytesIO(uploaded['yandex_music_project.csv']))\n",
        "# print(df)"
      ]
    },
    {
      "cell_type": "code",
      "source": [
        "url = 'https://drive.google.com/file/d/1S1Vx8jnYESLIGbNwkJTBC8S9ovbUvUR7/view?usp=sharing'\n",
        "path = 'https://drive.google.com/uc?export=download&id=' + url.split('/')[-2]\n",
        "df = pd.read_csv(path)\n",
        "df"
      ],
      "metadata": {
        "colab": {
          "base_uri": "https://localhost:8080/",
          "height": 424
        },
        "id": "2yNl161oRzqr",
        "outputId": "7f64dff8-c12f-4a46-ac65-51ff2bb019dc"
      },
      "execution_count": 3,
      "outputs": [
        {
          "output_type": "execute_result",
          "data": {
            "text/plain": [
              "       Unnamed: 0    userID                              Track  \\\n",
              "0               0  FFB692EC                  Kamigata To Boots   \n",
              "1               1  55204538        Delayed Because of Accident   \n",
              "2               2    20EC38                  Funiculì funiculà   \n",
              "3               3  A3DD03C9              Dragons in the Sunset   \n",
              "4               4  E2DC1FAE                        Soul People   \n",
              "...           ...       ...                                ...   \n",
              "65074       65074  729CBB09                            My Name   \n",
              "65075       65075  D08D4A55  Maybe One Day (feat. Black Spade)   \n",
              "65076       65076  C5E3A0D5                          Jalopiina   \n",
              "65077       65077  321D0506                      Freight Train   \n",
              "65078       65078  3A64EF84          Tell Me Sweet Little Lies   \n",
              "\n",
              "                 artist       genre            City        time        Day  \n",
              "0      The Mass Missile        rock  Saint-Petersburg  20:28:33  Wednesday  \n",
              "1      Andreas Rönnberg        rock            Moscow  14:07:09     Friday  \n",
              "2           Mario Lanza         pop  Saint-Petersburg  20:58:07  Wednesday  \n",
              "3            Fire + Ice        folk  Saint-Petersburg  08:37:09     Monday  \n",
              "4            Space Echo       dance            Moscow  08:34:34     Monday  \n",
              "...                 ...         ...               ...       ...        ...  \n",
              "65074            McLean         rnb            Moscow  13:32:28  Wednesday  \n",
              "65075       Blu & Exile         hip  Saint-Petersburg  10:00:00     Monday  \n",
              "65076               NaN  industrial            Moscow  20:09:26     Friday  \n",
              "65077     Chas McDevitt        rock            Moscow  21:43:59     Friday  \n",
              "65078      Monica Lopez     country            Moscow  21:59:46     Friday  \n",
              "\n",
              "[65079 rows x 8 columns]"
            ],
            "text/html": [
              "\n",
              "  <div id=\"df-a00d1344-f61a-4d0f-a97b-0bf65a25c196\">\n",
              "    <div class=\"colab-df-container\">\n",
              "      <div>\n",
              "<style scoped>\n",
              "    .dataframe tbody tr th:only-of-type {\n",
              "        vertical-align: middle;\n",
              "    }\n",
              "\n",
              "    .dataframe tbody tr th {\n",
              "        vertical-align: top;\n",
              "    }\n",
              "\n",
              "    .dataframe thead th {\n",
              "        text-align: right;\n",
              "    }\n",
              "</style>\n",
              "<table border=\"1\" class=\"dataframe\">\n",
              "  <thead>\n",
              "    <tr style=\"text-align: right;\">\n",
              "      <th></th>\n",
              "      <th>Unnamed: 0</th>\n",
              "      <th>userID</th>\n",
              "      <th>Track</th>\n",
              "      <th>artist</th>\n",
              "      <th>genre</th>\n",
              "      <th>City</th>\n",
              "      <th>time</th>\n",
              "      <th>Day</th>\n",
              "    </tr>\n",
              "  </thead>\n",
              "  <tbody>\n",
              "    <tr>\n",
              "      <th>0</th>\n",
              "      <td>0</td>\n",
              "      <td>FFB692EC</td>\n",
              "      <td>Kamigata To Boots</td>\n",
              "      <td>The Mass Missile</td>\n",
              "      <td>rock</td>\n",
              "      <td>Saint-Petersburg</td>\n",
              "      <td>20:28:33</td>\n",
              "      <td>Wednesday</td>\n",
              "    </tr>\n",
              "    <tr>\n",
              "      <th>1</th>\n",
              "      <td>1</td>\n",
              "      <td>55204538</td>\n",
              "      <td>Delayed Because of Accident</td>\n",
              "      <td>Andreas Rönnberg</td>\n",
              "      <td>rock</td>\n",
              "      <td>Moscow</td>\n",
              "      <td>14:07:09</td>\n",
              "      <td>Friday</td>\n",
              "    </tr>\n",
              "    <tr>\n",
              "      <th>2</th>\n",
              "      <td>2</td>\n",
              "      <td>20EC38</td>\n",
              "      <td>Funiculì funiculà</td>\n",
              "      <td>Mario Lanza</td>\n",
              "      <td>pop</td>\n",
              "      <td>Saint-Petersburg</td>\n",
              "      <td>20:58:07</td>\n",
              "      <td>Wednesday</td>\n",
              "    </tr>\n",
              "    <tr>\n",
              "      <th>3</th>\n",
              "      <td>3</td>\n",
              "      <td>A3DD03C9</td>\n",
              "      <td>Dragons in the Sunset</td>\n",
              "      <td>Fire + Ice</td>\n",
              "      <td>folk</td>\n",
              "      <td>Saint-Petersburg</td>\n",
              "      <td>08:37:09</td>\n",
              "      <td>Monday</td>\n",
              "    </tr>\n",
              "    <tr>\n",
              "      <th>4</th>\n",
              "      <td>4</td>\n",
              "      <td>E2DC1FAE</td>\n",
              "      <td>Soul People</td>\n",
              "      <td>Space Echo</td>\n",
              "      <td>dance</td>\n",
              "      <td>Moscow</td>\n",
              "      <td>08:34:34</td>\n",
              "      <td>Monday</td>\n",
              "    </tr>\n",
              "    <tr>\n",
              "      <th>...</th>\n",
              "      <td>...</td>\n",
              "      <td>...</td>\n",
              "      <td>...</td>\n",
              "      <td>...</td>\n",
              "      <td>...</td>\n",
              "      <td>...</td>\n",
              "      <td>...</td>\n",
              "      <td>...</td>\n",
              "    </tr>\n",
              "    <tr>\n",
              "      <th>65074</th>\n",
              "      <td>65074</td>\n",
              "      <td>729CBB09</td>\n",
              "      <td>My Name</td>\n",
              "      <td>McLean</td>\n",
              "      <td>rnb</td>\n",
              "      <td>Moscow</td>\n",
              "      <td>13:32:28</td>\n",
              "      <td>Wednesday</td>\n",
              "    </tr>\n",
              "    <tr>\n",
              "      <th>65075</th>\n",
              "      <td>65075</td>\n",
              "      <td>D08D4A55</td>\n",
              "      <td>Maybe One Day (feat. Black Spade)</td>\n",
              "      <td>Blu &amp; Exile</td>\n",
              "      <td>hip</td>\n",
              "      <td>Saint-Petersburg</td>\n",
              "      <td>10:00:00</td>\n",
              "      <td>Monday</td>\n",
              "    </tr>\n",
              "    <tr>\n",
              "      <th>65076</th>\n",
              "      <td>65076</td>\n",
              "      <td>C5E3A0D5</td>\n",
              "      <td>Jalopiina</td>\n",
              "      <td>NaN</td>\n",
              "      <td>industrial</td>\n",
              "      <td>Moscow</td>\n",
              "      <td>20:09:26</td>\n",
              "      <td>Friday</td>\n",
              "    </tr>\n",
              "    <tr>\n",
              "      <th>65077</th>\n",
              "      <td>65077</td>\n",
              "      <td>321D0506</td>\n",
              "      <td>Freight Train</td>\n",
              "      <td>Chas McDevitt</td>\n",
              "      <td>rock</td>\n",
              "      <td>Moscow</td>\n",
              "      <td>21:43:59</td>\n",
              "      <td>Friday</td>\n",
              "    </tr>\n",
              "    <tr>\n",
              "      <th>65078</th>\n",
              "      <td>65078</td>\n",
              "      <td>3A64EF84</td>\n",
              "      <td>Tell Me Sweet Little Lies</td>\n",
              "      <td>Monica Lopez</td>\n",
              "      <td>country</td>\n",
              "      <td>Moscow</td>\n",
              "      <td>21:59:46</td>\n",
              "      <td>Friday</td>\n",
              "    </tr>\n",
              "  </tbody>\n",
              "</table>\n",
              "<p>65079 rows × 8 columns</p>\n",
              "</div>\n",
              "      <button class=\"colab-df-convert\" onclick=\"convertToInteractive('df-a00d1344-f61a-4d0f-a97b-0bf65a25c196')\"\n",
              "              title=\"Convert this dataframe to an interactive table.\"\n",
              "              style=\"display:none;\">\n",
              "        \n",
              "  <svg xmlns=\"http://www.w3.org/2000/svg\" height=\"24px\"viewBox=\"0 0 24 24\"\n",
              "       width=\"24px\">\n",
              "    <path d=\"M0 0h24v24H0V0z\" fill=\"none\"/>\n",
              "    <path d=\"M18.56 5.44l.94 2.06.94-2.06 2.06-.94-2.06-.94-.94-2.06-.94 2.06-2.06.94zm-11 1L8.5 8.5l.94-2.06 2.06-.94-2.06-.94L8.5 2.5l-.94 2.06-2.06.94zm10 10l.94 2.06.94-2.06 2.06-.94-2.06-.94-.94-2.06-.94 2.06-2.06.94z\"/><path d=\"M17.41 7.96l-1.37-1.37c-.4-.4-.92-.59-1.43-.59-.52 0-1.04.2-1.43.59L10.3 9.45l-7.72 7.72c-.78.78-.78 2.05 0 2.83L4 21.41c.39.39.9.59 1.41.59.51 0 1.02-.2 1.41-.59l7.78-7.78 2.81-2.81c.8-.78.8-2.07 0-2.86zM5.41 20L4 18.59l7.72-7.72 1.47 1.35L5.41 20z\"/>\n",
              "  </svg>\n",
              "      </button>\n",
              "      \n",
              "  <style>\n",
              "    .colab-df-container {\n",
              "      display:flex;\n",
              "      flex-wrap:wrap;\n",
              "      gap: 12px;\n",
              "    }\n",
              "\n",
              "    .colab-df-convert {\n",
              "      background-color: #E8F0FE;\n",
              "      border: none;\n",
              "      border-radius: 50%;\n",
              "      cursor: pointer;\n",
              "      display: none;\n",
              "      fill: #1967D2;\n",
              "      height: 32px;\n",
              "      padding: 0 0 0 0;\n",
              "      width: 32px;\n",
              "    }\n",
              "\n",
              "    .colab-df-convert:hover {\n",
              "      background-color: #E2EBFA;\n",
              "      box-shadow: 0px 1px 2px rgba(60, 64, 67, 0.3), 0px 1px 3px 1px rgba(60, 64, 67, 0.15);\n",
              "      fill: #174EA6;\n",
              "    }\n",
              "\n",
              "    [theme=dark] .colab-df-convert {\n",
              "      background-color: #3B4455;\n",
              "      fill: #D2E3FC;\n",
              "    }\n",
              "\n",
              "    [theme=dark] .colab-df-convert:hover {\n",
              "      background-color: #434B5C;\n",
              "      box-shadow: 0px 1px 3px 1px rgba(0, 0, 0, 0.15);\n",
              "      filter: drop-shadow(0px 1px 2px rgba(0, 0, 0, 0.3));\n",
              "      fill: #FFFFFF;\n",
              "    }\n",
              "  </style>\n",
              "\n",
              "      <script>\n",
              "        const buttonEl =\n",
              "          document.querySelector('#df-a00d1344-f61a-4d0f-a97b-0bf65a25c196 button.colab-df-convert');\n",
              "        buttonEl.style.display =\n",
              "          google.colab.kernel.accessAllowed ? 'block' : 'none';\n",
              "\n",
              "        async function convertToInteractive(key) {\n",
              "          const element = document.querySelector('#df-a00d1344-f61a-4d0f-a97b-0bf65a25c196');\n",
              "          const dataTable =\n",
              "            await google.colab.kernel.invokeFunction('convertToInteractive',\n",
              "                                                     [key], {});\n",
              "          if (!dataTable) return;\n",
              "\n",
              "          const docLinkHtml = 'Like what you see? Visit the ' +\n",
              "            '<a target=\"_blank\" href=https://colab.research.google.com/notebooks/data_table.ipynb>data table notebook</a>'\n",
              "            + ' to learn more about interactive tables.';\n",
              "          element.innerHTML = '';\n",
              "          dataTable['output_type'] = 'display_data';\n",
              "          await google.colab.output.renderOutput(dataTable, element);\n",
              "          const docLink = document.createElement('div');\n",
              "          docLink.innerHTML = docLinkHtml;\n",
              "          element.appendChild(docLink);\n",
              "        }\n",
              "      </script>\n",
              "    </div>\n",
              "  </div>\n",
              "  "
            ]
          },
          "metadata": {},
          "execution_count": 3
        }
      ]
    },
    {
      "cell_type": "markdown",
      "source": [
        "Н0- В понедельник и в пятницу музыку порслушивают с одинаковой интенсивностью\n",
        "\n",
        "\n",
        "Н1- В пятницу музыку порслушивают на 2% активнее чем в понедельник"
      ],
      "metadata": {
        "id": "s09ISsQEGagq"
      }
    },
    {
      "cell_type": "code",
      "source": [
        "# приводим столбцы к удобному формату\n",
        "df=df.rename(columns={'  userID':'user_id', 'Track':'track', '  City  ':'city', 'Day':'day'})"
      ],
      "metadata": {
        "id": "oknNI5V-I3IO"
      },
      "execution_count": 4,
      "outputs": []
    },
    {
      "cell_type": "code",
      "source": [
        "def counting_songs(df, day, city):\n",
        "    track_list=df[(df['day']==day) & (df['city']==city)]\n",
        "    track_list_count = track_list['user_id'].count()\n",
        "    return track_list_count"
      ],
      "metadata": {
        "id": "xwOjB9yWjcbd"
      },
      "execution_count": 5,
      "outputs": []
    },
    {
      "cell_type": "code",
      "source": [
        "list_day=['Friday','Monday','Wednesday']\n",
        "list_city=['Moscow','Saint-Petersburg']\n",
        "columns = ['city']\n",
        "data_MSK =['Moscow']\n",
        "data_SP =['Saint-Petersburg']\n",
        "for day in list_day:\n",
        "    columns.append(day)\n",
        "    for city in list_city:\n",
        "        if city == 'Moscow':\n",
        "            data_MSK.append(counting_songs(df, day, city))\n",
        "        elif city == 'Saint-Petersburg':\n",
        "            data_SP.append(counting_songs(df, day, city))"
      ],
      "metadata": {
        "id": "eta5zNGZLXJK"
      },
      "execution_count": 6,
      "outputs": []
    },
    {
      "cell_type": "code",
      "source": [
        "data=[data_MSK,data_SP]\n",
        "table = pd.DataFrame(data = data, columns = columns)\n",
        "table"
      ],
      "metadata": {
        "colab": {
          "base_uri": "https://localhost:8080/",
          "height": 112
        },
        "id": "DpDlE0v8LfXb",
        "outputId": "0c8185fe-c385-494c-b133-0ba7bcbba206"
      },
      "execution_count": 7,
      "outputs": [
        {
          "output_type": "execute_result",
          "data": {
            "text/plain": [
              "               city  Friday  Monday  Wednesday\n",
              "0            Moscow   16890   16715      11755\n",
              "1  Saint-Petersburg    6259    5982       7478"
            ],
            "text/html": [
              "\n",
              "  <div id=\"df-498c95b3-c310-42aa-af12-efe84ffa5ae5\">\n",
              "    <div class=\"colab-df-container\">\n",
              "      <div>\n",
              "<style scoped>\n",
              "    .dataframe tbody tr th:only-of-type {\n",
              "        vertical-align: middle;\n",
              "    }\n",
              "\n",
              "    .dataframe tbody tr th {\n",
              "        vertical-align: top;\n",
              "    }\n",
              "\n",
              "    .dataframe thead th {\n",
              "        text-align: right;\n",
              "    }\n",
              "</style>\n",
              "<table border=\"1\" class=\"dataframe\">\n",
              "  <thead>\n",
              "    <tr style=\"text-align: right;\">\n",
              "      <th></th>\n",
              "      <th>city</th>\n",
              "      <th>Friday</th>\n",
              "      <th>Monday</th>\n",
              "      <th>Wednesday</th>\n",
              "    </tr>\n",
              "  </thead>\n",
              "  <tbody>\n",
              "    <tr>\n",
              "      <th>0</th>\n",
              "      <td>Moscow</td>\n",
              "      <td>16890</td>\n",
              "      <td>16715</td>\n",
              "      <td>11755</td>\n",
              "    </tr>\n",
              "    <tr>\n",
              "      <th>1</th>\n",
              "      <td>Saint-Petersburg</td>\n",
              "      <td>6259</td>\n",
              "      <td>5982</td>\n",
              "      <td>7478</td>\n",
              "    </tr>\n",
              "  </tbody>\n",
              "</table>\n",
              "</div>\n",
              "      <button class=\"colab-df-convert\" onclick=\"convertToInteractive('df-498c95b3-c310-42aa-af12-efe84ffa5ae5')\"\n",
              "              title=\"Convert this dataframe to an interactive table.\"\n",
              "              style=\"display:none;\">\n",
              "        \n",
              "  <svg xmlns=\"http://www.w3.org/2000/svg\" height=\"24px\"viewBox=\"0 0 24 24\"\n",
              "       width=\"24px\">\n",
              "    <path d=\"M0 0h24v24H0V0z\" fill=\"none\"/>\n",
              "    <path d=\"M18.56 5.44l.94 2.06.94-2.06 2.06-.94-2.06-.94-.94-2.06-.94 2.06-2.06.94zm-11 1L8.5 8.5l.94-2.06 2.06-.94-2.06-.94L8.5 2.5l-.94 2.06-2.06.94zm10 10l.94 2.06.94-2.06 2.06-.94-2.06-.94-.94-2.06-.94 2.06-2.06.94z\"/><path d=\"M17.41 7.96l-1.37-1.37c-.4-.4-.92-.59-1.43-.59-.52 0-1.04.2-1.43.59L10.3 9.45l-7.72 7.72c-.78.78-.78 2.05 0 2.83L4 21.41c.39.39.9.59 1.41.59.51 0 1.02-.2 1.41-.59l7.78-7.78 2.81-2.81c.8-.78.8-2.07 0-2.86zM5.41 20L4 18.59l7.72-7.72 1.47 1.35L5.41 20z\"/>\n",
              "  </svg>\n",
              "      </button>\n",
              "      \n",
              "  <style>\n",
              "    .colab-df-container {\n",
              "      display:flex;\n",
              "      flex-wrap:wrap;\n",
              "      gap: 12px;\n",
              "    }\n",
              "\n",
              "    .colab-df-convert {\n",
              "      background-color: #E8F0FE;\n",
              "      border: none;\n",
              "      border-radius: 50%;\n",
              "      cursor: pointer;\n",
              "      display: none;\n",
              "      fill: #1967D2;\n",
              "      height: 32px;\n",
              "      padding: 0 0 0 0;\n",
              "      width: 32px;\n",
              "    }\n",
              "\n",
              "    .colab-df-convert:hover {\n",
              "      background-color: #E2EBFA;\n",
              "      box-shadow: 0px 1px 2px rgba(60, 64, 67, 0.3), 0px 1px 3px 1px rgba(60, 64, 67, 0.15);\n",
              "      fill: #174EA6;\n",
              "    }\n",
              "\n",
              "    [theme=dark] .colab-df-convert {\n",
              "      background-color: #3B4455;\n",
              "      fill: #D2E3FC;\n",
              "    }\n",
              "\n",
              "    [theme=dark] .colab-df-convert:hover {\n",
              "      background-color: #434B5C;\n",
              "      box-shadow: 0px 1px 3px 1px rgba(0, 0, 0, 0.15);\n",
              "      filter: drop-shadow(0px 1px 2px rgba(0, 0, 0, 0.3));\n",
              "      fill: #FFFFFF;\n",
              "    }\n",
              "  </style>\n",
              "\n",
              "      <script>\n",
              "        const buttonEl =\n",
              "          document.querySelector('#df-498c95b3-c310-42aa-af12-efe84ffa5ae5 button.colab-df-convert');\n",
              "        buttonEl.style.display =\n",
              "          google.colab.kernel.accessAllowed ? 'block' : 'none';\n",
              "\n",
              "        async function convertToInteractive(key) {\n",
              "          const element = document.querySelector('#df-498c95b3-c310-42aa-af12-efe84ffa5ae5');\n",
              "          const dataTable =\n",
              "            await google.colab.kernel.invokeFunction('convertToInteractive',\n",
              "                                                     [key], {});\n",
              "          if (!dataTable) return;\n",
              "\n",
              "          const docLinkHtml = 'Like what you see? Visit the ' +\n",
              "            '<a target=\"_blank\" href=https://colab.research.google.com/notebooks/data_table.ipynb>data table notebook</a>'\n",
              "            + ' to learn more about interactive tables.';\n",
              "          element.innerHTML = '';\n",
              "          dataTable['output_type'] = 'display_data';\n",
              "          await google.colab.output.renderOutput(dataTable, element);\n",
              "          const docLink = document.createElement('div');\n",
              "          docLink.innerHTML = docLinkHtml;\n",
              "          element.appendChild(docLink);\n",
              "        }\n",
              "      </script>\n",
              "    </div>\n",
              "  </div>\n",
              "  "
            ]
          },
          "metadata": {},
          "execution_count": 7
        }
      ]
    },
    {
      "cell_type": "code",
      "source": [
        "data = [{'Friday': 16890, 'Monday': 16715}, {'Friday': 6259, 'Monday': 5982}]\n",
        "df_from_dz = pd.DataFrame(data)\n",
        "df_from_dz"
      ],
      "metadata": {
        "colab": {
          "base_uri": "https://localhost:8080/",
          "height": 112
        },
        "id": "sQ8zNpq6dyMp",
        "outputId": "2b49e4ff-50ef-4b45-eb1a-7e332d01ae13"
      },
      "execution_count": 8,
      "outputs": [
        {
          "output_type": "execute_result",
          "data": {
            "text/plain": [
              "   Friday  Monday\n",
              "0   16890   16715\n",
              "1    6259    5982"
            ],
            "text/html": [
              "\n",
              "  <div id=\"df-49191ab0-6efd-4704-b50d-f79a752005b6\">\n",
              "    <div class=\"colab-df-container\">\n",
              "      <div>\n",
              "<style scoped>\n",
              "    .dataframe tbody tr th:only-of-type {\n",
              "        vertical-align: middle;\n",
              "    }\n",
              "\n",
              "    .dataframe tbody tr th {\n",
              "        vertical-align: top;\n",
              "    }\n",
              "\n",
              "    .dataframe thead th {\n",
              "        text-align: right;\n",
              "    }\n",
              "</style>\n",
              "<table border=\"1\" class=\"dataframe\">\n",
              "  <thead>\n",
              "    <tr style=\"text-align: right;\">\n",
              "      <th></th>\n",
              "      <th>Friday</th>\n",
              "      <th>Monday</th>\n",
              "    </tr>\n",
              "  </thead>\n",
              "  <tbody>\n",
              "    <tr>\n",
              "      <th>0</th>\n",
              "      <td>16890</td>\n",
              "      <td>16715</td>\n",
              "    </tr>\n",
              "    <tr>\n",
              "      <th>1</th>\n",
              "      <td>6259</td>\n",
              "      <td>5982</td>\n",
              "    </tr>\n",
              "  </tbody>\n",
              "</table>\n",
              "</div>\n",
              "      <button class=\"colab-df-convert\" onclick=\"convertToInteractive('df-49191ab0-6efd-4704-b50d-f79a752005b6')\"\n",
              "              title=\"Convert this dataframe to an interactive table.\"\n",
              "              style=\"display:none;\">\n",
              "        \n",
              "  <svg xmlns=\"http://www.w3.org/2000/svg\" height=\"24px\"viewBox=\"0 0 24 24\"\n",
              "       width=\"24px\">\n",
              "    <path d=\"M0 0h24v24H0V0z\" fill=\"none\"/>\n",
              "    <path d=\"M18.56 5.44l.94 2.06.94-2.06 2.06-.94-2.06-.94-.94-2.06-.94 2.06-2.06.94zm-11 1L8.5 8.5l.94-2.06 2.06-.94-2.06-.94L8.5 2.5l-.94 2.06-2.06.94zm10 10l.94 2.06.94-2.06 2.06-.94-2.06-.94-.94-2.06-.94 2.06-2.06.94z\"/><path d=\"M17.41 7.96l-1.37-1.37c-.4-.4-.92-.59-1.43-.59-.52 0-1.04.2-1.43.59L10.3 9.45l-7.72 7.72c-.78.78-.78 2.05 0 2.83L4 21.41c.39.39.9.59 1.41.59.51 0 1.02-.2 1.41-.59l7.78-7.78 2.81-2.81c.8-.78.8-2.07 0-2.86zM5.41 20L4 18.59l7.72-7.72 1.47 1.35L5.41 20z\"/>\n",
              "  </svg>\n",
              "      </button>\n",
              "      \n",
              "  <style>\n",
              "    .colab-df-container {\n",
              "      display:flex;\n",
              "      flex-wrap:wrap;\n",
              "      gap: 12px;\n",
              "    }\n",
              "\n",
              "    .colab-df-convert {\n",
              "      background-color: #E8F0FE;\n",
              "      border: none;\n",
              "      border-radius: 50%;\n",
              "      cursor: pointer;\n",
              "      display: none;\n",
              "      fill: #1967D2;\n",
              "      height: 32px;\n",
              "      padding: 0 0 0 0;\n",
              "      width: 32px;\n",
              "    }\n",
              "\n",
              "    .colab-df-convert:hover {\n",
              "      background-color: #E2EBFA;\n",
              "      box-shadow: 0px 1px 2px rgba(60, 64, 67, 0.3), 0px 1px 3px 1px rgba(60, 64, 67, 0.15);\n",
              "      fill: #174EA6;\n",
              "    }\n",
              "\n",
              "    [theme=dark] .colab-df-convert {\n",
              "      background-color: #3B4455;\n",
              "      fill: #D2E3FC;\n",
              "    }\n",
              "\n",
              "    [theme=dark] .colab-df-convert:hover {\n",
              "      background-color: #434B5C;\n",
              "      box-shadow: 0px 1px 3px 1px rgba(0, 0, 0, 0.15);\n",
              "      filter: drop-shadow(0px 1px 2px rgba(0, 0, 0, 0.3));\n",
              "      fill: #FFFFFF;\n",
              "    }\n",
              "  </style>\n",
              "\n",
              "      <script>\n",
              "        const buttonEl =\n",
              "          document.querySelector('#df-49191ab0-6efd-4704-b50d-f79a752005b6 button.colab-df-convert');\n",
              "        buttonEl.style.display =\n",
              "          google.colab.kernel.accessAllowed ? 'block' : 'none';\n",
              "\n",
              "        async function convertToInteractive(key) {\n",
              "          const element = document.querySelector('#df-49191ab0-6efd-4704-b50d-f79a752005b6');\n",
              "          const dataTable =\n",
              "            await google.colab.kernel.invokeFunction('convertToInteractive',\n",
              "                                                     [key], {});\n",
              "          if (!dataTable) return;\n",
              "\n",
              "          const docLinkHtml = 'Like what you see? Visit the ' +\n",
              "            '<a target=\"_blank\" href=https://colab.research.google.com/notebooks/data_table.ipynb>data table notebook</a>'\n",
              "            + ' to learn more about interactive tables.';\n",
              "          element.innerHTML = '';\n",
              "          dataTable['output_type'] = 'display_data';\n",
              "          await google.colab.output.renderOutput(dataTable, element);\n",
              "          const docLink = document.createElement('div');\n",
              "          docLink.innerHTML = docLinkHtml;\n",
              "          element.appendChild(docLink);\n",
              "        }\n",
              "      </script>\n",
              "    </div>\n",
              "  </div>\n",
              "  "
            ]
          },
          "metadata": {},
          "execution_count": 8
        }
      ]
    },
    {
      "cell_type": "code",
      "source": [
        "#Находим среднее кол-во прослушиваний в пт\n",
        "Friday_hear=df_from_dz.mean(axis=0)[0]\n",
        "Friday_hear"
      ],
      "metadata": {
        "colab": {
          "base_uri": "https://localhost:8080/"
        },
        "id": "97rDDxJ6kSjU",
        "outputId": "a2f498da-2e3f-47fe-8b2e-62a8c443d62e"
      },
      "execution_count": 9,
      "outputs": [
        {
          "output_type": "execute_result",
          "data": {
            "text/plain": [
              "11574.5"
            ]
          },
          "metadata": {},
          "execution_count": 9
        }
      ]
    },
    {
      "cell_type": "code",
      "source": [
        "#Находим среднее кол-во прослушиваний в пн\n",
        "Monday_hear=df_from_dz.mean(axis=0)[1]\n",
        "Monday_hear"
      ],
      "metadata": {
        "colab": {
          "base_uri": "https://localhost:8080/"
        },
        "id": "BprIYK1_kSmW",
        "outputId": "17b85c4d-75c7-4e46-a74e-8ee41ccb9198"
      },
      "execution_count": 10,
      "outputs": [
        {
          "output_type": "execute_result",
          "data": {
            "text/plain": [
              "11348.5"
            ]
          },
          "metadata": {},
          "execution_count": 10
        }
      ]
    },
    {
      "cell_type": "markdown",
      "source": [
        "Проверяем гипотезу  - Н0- В понедельник и в пятницу музыку порслушивают с одинаковой иинтенсивностью"
      ],
      "metadata": {
        "id": "HkeYqhm1sTdP"
      }
    },
    {
      "cell_type": "code",
      "source": [
        "#находим разниицу в кол-ве прослушиваний\n",
        "difference = Friday_hear - Monday_hear\n",
        "difference"
      ],
      "metadata": {
        "colab": {
          "base_uri": "https://localhost:8080/"
        },
        "id": "-H_I78QJmjds",
        "outputId": "4f3686f0-a403-419a-a271-5b791ff8a6e1"
      },
      "execution_count": 11,
      "outputs": [
        {
          "output_type": "execute_result",
          "data": {
            "text/plain": [
              "226.0"
            ]
          },
          "metadata": {},
          "execution_count": 11
        }
      ]
    },
    {
      "cell_type": "code",
      "source": [
        "#Допустим доверительный интервал  = 1%\n",
        "confidence_interval=Friday_hear*0.01\n",
        "confidence_interval"
      ],
      "metadata": {
        "colab": {
          "base_uri": "https://localhost:8080/"
        },
        "id": "QZ0MfOV_oEWE",
        "outputId": "84e5a8d0-9e86-475f-b1dd-a18ab027c420"
      },
      "execution_count": 12,
      "outputs": [
        {
          "output_type": "execute_result",
          "data": {
            "text/plain": [
              "115.745"
            ]
          },
          "metadata": {},
          "execution_count": 12
        }
      ]
    },
    {
      "cell_type": "markdown",
      "source": [
        " Проведем T-тест с двумя выборками он используется для проверки того, равны ли неизвестные средние значения совокупности для данной пары групп. tt позволяет проверить нулевую гипотезу о том, что средние значения двух групп равны.\n",
        "\n",
        "\n",
        " Если p-значение меньше выбранного уровня значимости (0.01), то мы можем отклонить нулевую гипотезу о равенстве средних **значений**"
      ],
      "metadata": {
        "id": "8mnvfbFK7-l6"
      }
    },
    {
      "cell_type": "code",
      "source": [
        "# Вычисляем t-статистику и p-значение\n",
        "t_stat, p_val = stats.ttest_ind(df_from_dz['Monday'], df_from_dz['Friday'], equal_var= True )\n",
        "\n",
        "print(f't-статистика: {t_stat}')\n",
        "print(f'p-значение: {p_val}')"
      ],
      "metadata": {
        "colab": {
          "base_uri": "https://localhost:8080/"
        },
        "id": "YkDuMjK9t_4Y",
        "outputId": "d5b5c3fa-a7d6-420e-f490-f0ec0a8c01a5"
      },
      "execution_count": 13,
      "outputs": [
        {
          "output_type": "stream",
          "name": "stdout",
          "text": [
            "t-статистика: -0.029920297923107967\n",
            "p-значение: 0.9788478878846302\n"
          ]
        }
      ]
    },
    {
      "cell_type": "markdown",
      "source": [
        "Гипотеза  - Н0- В понедельник и в пятницу музыку порслушивают с одинаковой иинтенсивностью не подтвержденна так как искомое значение не попадает в доверительный интервал"
      ],
      "metadata": {
        "id": "nvN26WMgsfbw"
      }
    },
    {
      "cell_type": "markdown",
      "source": [
        "--------------------------------------------------------------------\n",
        "\n",
        "\n",
        "\n",
        "\n",
        "\n",
        "\n",
        "\n",
        "\n",
        "\n",
        "\n",
        "Проверяем гипотезу - Н1- В пятницу музыку порслушивают на 2% активнее чем в понедельник"
      ],
      "metadata": {
        "id": "LgXukLx_stdI"
      }
    },
    {
      "cell_type": "code",
      "source": [
        "#находим разниицу в кол-ве прослушиваний\n",
        "difference = Friday_hear - (Monday_hear * 1.02)\n",
        "difference"
      ],
      "metadata": {
        "colab": {
          "base_uri": "https://localhost:8080/"
        },
        "id": "LZGPrppdsSD5",
        "outputId": "463163e0-cf0a-4a20-e323-84fcd531c582"
      },
      "execution_count": 14,
      "outputs": [
        {
          "output_type": "execute_result",
          "data": {
            "text/plain": [
              "-0.9699999999993452"
            ]
          },
          "metadata": {},
          "execution_count": 14
        }
      ]
    },
    {
      "cell_type": "markdown",
      "source": [
        " Проведем T-тест с двумя выборками он используется для проверки того, равны ли неизвестные средние значения совокупности для данной пары групп. tt позволяет проверить нулевую гипотезу о том, что средние значения двух групп равны.\n",
        "\n",
        "\n",
        " Если p-значение меньше выбранного уровня значимости (0.01), то мы можем отклонить нулевую гипотезу о равенстве средних **значений**"
      ],
      "metadata": {
        "id": "9EsA2ak9_H0i"
      }
    },
    {
      "cell_type": "code",
      "source": [
        "# Вычисляем t-статистику и p-значение\n",
        "t_stat, p_val = stats.ttest_ind((df_from_dz['Monday']*1.02), df_from_dz['Friday'], equal_var= True )\n",
        "\n",
        "print(f't-статистика: {t_stat}')\n",
        "print(f'p-значение: {p_val}')"
      ],
      "metadata": {
        "colab": {
          "base_uri": "https://localhost:8080/"
        },
        "id": "zeVxzWqv-9Cs",
        "outputId": "d873edee-2cc3-4a8f-a837-5026efcc9eb5"
      },
      "execution_count": 15,
      "outputs": [
        {
          "output_type": "stream",
          "name": "stdout",
          "text": [
            "t-статистика: 0.00012712925405833033\n",
            "p-значение: 0.9999101060427313\n"
          ]
        }
      ]
    },
    {
      "cell_type": "markdown",
      "source": [
        "Гипотеза  - Н0- В понедельник и в пятницу музыку порслушивают с одинаковой интенсивностью **Подтврждена**"
      ],
      "metadata": {
        "id": "KEsyZAugtAyS"
      }
    }
  ]
}