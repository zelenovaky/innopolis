{
  "nbformat": 4,
  "nbformat_minor": 0,
  "metadata": {
    "colab": {
      "provenance": []
    },
    "kernelspec": {
      "name": "python3",
      "display_name": "Python 3"
    },
    "language_info": {
      "name": "python"
    }
  },
  "cells": [
    {
      "cell_type": "code",
      "execution_count": 1,
      "metadata": {
        "id": "hbLUuyAELpxs"
      },
      "outputs": [],
      "source": [
        "import numpy as np\n",
        "import random"
      ]
    },
    {
      "cell_type": "markdown",
      "source": [
        "Задача 1\n",
        "\n",
        "\n",
        "\n",
        "\n",
        " ![image.png](data:image/png;base64,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)"
      ],
      "metadata": {
        "id": "K2TZbpp-Lwku"
      }
    },
    {
      "cell_type": "code",
      "source": [
        "A = np.matrix([[1, 2, 1],\n",
        "               [-2,1,1]])\n",
        "A"
      ],
      "metadata": {
        "colab": {
          "base_uri": "https://localhost:8080/"
        },
        "id": "rJjT5OklLy3m",
        "outputId": "334fd4f9-fd4c-43b7-f732-e0275dc90b40"
      },
      "execution_count": 2,
      "outputs": [
        {
          "output_type": "execute_result",
          "data": {
            "text/plain": [
              "matrix([[ 1,  2,  1],\n",
              "        [-2,  1,  1]])"
            ]
          },
          "metadata": {},
          "execution_count": 2
        }
      ]
    },
    {
      "cell_type": "code",
      "source": [
        "B = np.matrix([[3,1],\n",
        "               [-1,0],\n",
        "               [2,4]])\n",
        "B"
      ],
      "metadata": {
        "colab": {
          "base_uri": "https://localhost:8080/"
        },
        "id": "x4an-DdhMBVK",
        "outputId": "b1651138-3db8-45db-f76e-44ccf0812cf5"
      },
      "execution_count": 3,
      "outputs": [
        {
          "output_type": "execute_result",
          "data": {
            "text/plain": [
              "matrix([[ 3,  1],\n",
              "        [-1,  0],\n",
              "        [ 2,  4]])"
            ]
          },
          "metadata": {},
          "execution_count": 3
        }
      ]
    },
    {
      "cell_type": "code",
      "source": [
        "C = np.matrix([[-2,2],\n",
        "               [1,-1],\n",
        "               [1,2]])\n",
        "C"
      ],
      "metadata": {
        "colab": {
          "base_uri": "https://localhost:8080/"
        },
        "id": "3YsXdBRCMLrU",
        "outputId": "ff047ce1-2fe5-4330-d32e-4f82cac88247"
      },
      "execution_count": 4,
      "outputs": [
        {
          "output_type": "execute_result",
          "data": {
            "text/plain": [
              "matrix([[-2,  2],\n",
              "        [ 1, -1],\n",
              "        [ 1,  2]])"
            ]
          },
          "metadata": {},
          "execution_count": 4
        }
      ]
    },
    {
      "cell_type": "code",
      "source": [
        "try:\n",
        "  Z= A + 2 * B\n",
        "  print(Z)\n",
        "except:\n",
        "  print ('Ошибка! При сложении или вычитании, матрицы должны иметь одинаковый размер!!!')"
      ],
      "metadata": {
        "colab": {
          "base_uri": "https://localhost:8080/"
        },
        "id": "-XDph_zcMTaN",
        "outputId": "d054e2bf-55c7-4ec4-a637-e01a64604da3"
      },
      "execution_count": 5,
      "outputs": [
        {
          "output_type": "stream",
          "name": "stdout",
          "text": [
            "Ошибка! При сложении или вычитании, матрицы должны иметь одинаковый размер!!!\n"
          ]
        }
      ]
    },
    {
      "cell_type": "code",
      "source": [
        "result1 = np.add(A, np.dot(np.transpose(B), 2))\n",
        "result1"
      ],
      "metadata": {
        "colab": {
          "base_uri": "https://localhost:8080/"
        },
        "id": "8JCb2jfBxM3r",
        "outputId": "a2811c10-b00c-4315-d7e1-0682f5220be0"
      },
      "execution_count": 10,
      "outputs": [
        {
          "output_type": "execute_result",
          "data": {
            "text/plain": [
              "matrix([[7, 0, 5],\n",
              "        [0, 1, 9]])"
            ]
          },
          "metadata": {},
          "execution_count": 10
        }
      ]
    },
    {
      "cell_type": "code",
      "source": [
        "try:\n",
        "  Z = B + 2 * C\n",
        "  print(Z)\n",
        "except:\n",
        "  print ('Ошибка! Размеры матриц не равны!')"
      ],
      "metadata": {
        "colab": {
          "base_uri": "https://localhost:8080/"
        },
        "id": "XmS3AxvhNZqJ",
        "outputId": "708b607c-b8c1-49f7-83b7-37c30df48a01"
      },
      "execution_count": 6,
      "outputs": [
        {
          "output_type": "stream",
          "name": "stdout",
          "text": [
            "[[-1  5]\n",
            " [ 1 -2]\n",
            " [ 4  8]]\n"
          ]
        }
      ]
    },
    {
      "cell_type": "code",
      "source": [],
      "metadata": {
        "id": "DE9hc_CTyMqH"
      },
      "execution_count": null,
      "outputs": []
    },
    {
      "cell_type": "code",
      "source": [
        "result2 = np.add(B, np.dot(C, 2))\n",
        "result2"
      ],
      "metadata": {
        "colab": {
          "base_uri": "https://localhost:8080/"
        },
        "id": "pG0FtMH2wvWD",
        "outputId": "5c2b3e21-46c6-49b4-e8c6-1e0256124b12"
      },
      "execution_count": 11,
      "outputs": [
        {
          "output_type": "execute_result",
          "data": {
            "text/plain": [
              "matrix([[-1,  5],\n",
              "        [ 1, -2],\n",
              "        [ 4,  8]])"
            ]
          },
          "metadata": {},
          "execution_count": 11
        }
      ]
    },
    {
      "cell_type": "markdown",
      "source": [
        "Задача 2\n",
        "\n",
        "\n",
        "![image.png](data:image/png;base64,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)"
      ],
      "metadata": {
        "id": "ekRNe_C4N4ZI"
      }
    },
    {
      "cell_type": "code",
      "source": [
        "matrix = np.zeros((8, 8), dtype=int)\n",
        "matrix[::2, ::2] = 1\n",
        "matrix[1::2, 1::2] = 1\n",
        "print(matrix)"
      ],
      "metadata": {
        "colab": {
          "base_uri": "https://localhost:8080/"
        },
        "id": "ZC3LmtngY_cv",
        "outputId": "4ef7c73a-39bc-4bd2-d45d-680fdbad49b4"
      },
      "execution_count": null,
      "outputs": [
        {
          "output_type": "stream",
          "name": "stdout",
          "text": [
            "[[1 0 1 0 1 0 1 0]\n",
            " [0 1 0 1 0 1 0 1]\n",
            " [1 0 1 0 1 0 1 0]\n",
            " [0 1 0 1 0 1 0 1]\n",
            " [1 0 1 0 1 0 1 0]\n",
            " [0 1 0 1 0 1 0 1]\n",
            " [1 0 1 0 1 0 1 0]\n",
            " [0 1 0 1 0 1 0 1]]\n"
          ]
        }
      ]
    },
    {
      "cell_type": "markdown",
      "source": [
        "Задача 3*\n",
        "\n",
        "\n",
        "  1. Сформировать два вектора: первый длиной 15 элементов со значениями от 0 до 1,4 с шагом 0,1; второй - длиной 6 элементов со значениями от 1 до 6.\n",
        "\n",
        "\n",
        "2. Преобразовать первый вектор в матрицу 5х3, а второй - в матрицу 3Х2. Выполнить перемножение этих матриц. Сами матрицы и результат их перемножения вывести на экран."
      ],
      "metadata": {
        "id": "XKzidp2WVF73"
      }
    },
    {
      "cell_type": "code",
      "source": [
        "vector_1 = np.arange(0, 1.5, 0.1)\n",
        "print(vector_1)"
      ],
      "metadata": {
        "colab": {
          "base_uri": "https://localhost:8080/"
        },
        "id": "bQI37W24XlAi",
        "outputId": "c7d2c7f4-ca1e-47f6-f259-ae20bdffa82f"
      },
      "execution_count": null,
      "outputs": [
        {
          "output_type": "stream",
          "name": "stdout",
          "text": [
            "[0.  0.1 0.2 0.3 0.4 0.5 0.6 0.7 0.8 0.9 1.  1.1 1.2 1.3 1.4]\n"
          ]
        }
      ]
    },
    {
      "cell_type": "code",
      "source": [
        "vector_2= np.arange(1, 7)\n",
        "print(vector_2)"
      ],
      "metadata": {
        "colab": {
          "base_uri": "https://localhost:8080/"
        },
        "id": "lr5IuUJuX3VM",
        "outputId": "08bdd267-6fa1-4be5-e6bc-656a3c71245a"
      },
      "execution_count": null,
      "outputs": [
        {
          "output_type": "stream",
          "name": "stdout",
          "text": [
            "[1 2 3 4 5 6]\n"
          ]
        }
      ]
    },
    {
      "cell_type": "code",
      "source": [
        "matrix_1 = np.reshape(vector_1, (5, 3))\n",
        "print(matrix_1)"
      ],
      "metadata": {
        "colab": {
          "base_uri": "https://localhost:8080/"
        },
        "id": "BCl3feH0WbG8",
        "outputId": "cc409e65-2ce5-4f9b-9789-c1e7ec80e511"
      },
      "execution_count": null,
      "outputs": [
        {
          "output_type": "stream",
          "name": "stdout",
          "text": [
            "[[0.  0.1 0.2]\n",
            " [0.3 0.4 0.5]\n",
            " [0.6 0.7 0.8]\n",
            " [0.9 1.  1.1]\n",
            " [1.2 1.3 1.4]]\n"
          ]
        }
      ]
    },
    {
      "cell_type": "code",
      "source": [
        "matrix_2 = np.reshape(vector_2, (3, 2))\n",
        "print(matrix_2)"
      ],
      "metadata": {
        "colab": {
          "base_uri": "https://localhost:8080/"
        },
        "id": "zBo0ZdYSWteT",
        "outputId": "d109aa01-3e7b-4ede-a0ce-da02c01b1e12"
      },
      "execution_count": null,
      "outputs": [
        {
          "output_type": "stream",
          "name": "stdout",
          "text": [
            "[[1 2]\n",
            " [3 4]\n",
            " [5 6]]\n"
          ]
        }
      ]
    },
    {
      "cell_type": "code",
      "source": [
        "matrix= matrix_1 @ matrix_2\n",
        "matrix"
      ],
      "metadata": {
        "colab": {
          "base_uri": "https://localhost:8080/"
        },
        "id": "pI4q7XXW35Xv",
        "outputId": "34adecfc-5625-444b-a7eb-fba1e0882988"
      },
      "execution_count": null,
      "outputs": [
        {
          "output_type": "execute_result",
          "data": {
            "text/plain": [
              "array([[ 1.3,  1.6],\n",
              "       [ 4. ,  5.2],\n",
              "       [ 6.7,  8.8],\n",
              "       [ 9.4, 12.4],\n",
              "       [12.1, 16. ]])"
            ]
          },
          "metadata": {},
          "execution_count": 19
        }
      ]
    },
    {
      "cell_type": "markdown",
      "source": [
        "Задача 4*\n",
        "\n",
        "\n",
        "1. Сформировать вектор из целых чисел (тип элементов должен быть int32) размерностью\n",
        "36 и значениями 1, 3, 5, 7, ... и так далее.\n",
        "2. Выделить из этого вектора все элементы со значениями кратными 3. Вывести результат на экран (исходный вектор и с кратными числами)."
      ],
      "metadata": {
        "id": "gEnf2VOyW4Pv"
      }
    },
    {
      "cell_type": "code",
      "source": [
        "vector = np.arange(1, 73, 2, dtype=np.int32)\n",
        "print(vector)"
      ],
      "metadata": {
        "colab": {
          "base_uri": "https://localhost:8080/"
        },
        "id": "XQN3O03DW7d2",
        "outputId": "18e32144-8bbf-41b0-ef62-be6b91e4c36c"
      },
      "execution_count": null,
      "outputs": [
        {
          "output_type": "stream",
          "name": "stdout",
          "text": [
            "[ 1  3  5  7  9 11 13 15 17 19 21 23 25 27 29 31 33 35 37 39 41 43 45 47\n",
            " 49 51 53 55 57 59 61 63 65 67 69 71]\n"
          ]
        }
      ]
    },
    {
      "cell_type": "code",
      "source": [
        "multiple_of_3 = vector[vector % 3 == 0]\n",
        "print(\"Вектор из элементов, кратных 3:\", multiple_of_3)\n"
      ],
      "metadata": {
        "colab": {
          "base_uri": "https://localhost:8080/"
        },
        "id": "ZSnWSkS_Xe2G",
        "outputId": "6deb2c2e-de3e-43f9-ed9f-7454fb92788a"
      },
      "execution_count": null,
      "outputs": [
        {
          "output_type": "stream",
          "name": "stdout",
          "text": [
            "Вектор из элементов, кратных 3: [ 3  9 15 21 27 33 39 45 51 57 63 69]\n"
          ]
        }
      ]
    }
  ]
}